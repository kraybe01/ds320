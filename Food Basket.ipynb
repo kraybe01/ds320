{
 "cells": [
  {
   "cell_type": "code",
   "execution_count": null,
   "metadata": {},
   "outputs": [],
   "source": [
    "#Instacart Market Basket Analysis"
   ]
  },
  {
   "cell_type": "code",
   "execution_count": null,
   "metadata": {},
   "outputs": [],
   "source": [
    "%matplotlib inline\n",
    "import string\n",
    "import re\n",
    "import pandas as pd\n",
    "import numpy as np\n",
    "import matplotlib\n",
    "import matplotlib.pyplot as plt\n",
    "import plotly as py\n",
    "import psycopg2\n",
    "import textblob\n",
    "import textatistic\n",
    "import os\n",
    "import math\n",
    "import random\n",
    "from nltk.corpus import stopwords\n",
    "import seaborn as sbn\n",
    "import requests\n",
    "from wordcloud import *\n",
    "from bs4 import BeautifulSoup\n",
    "from collections import Counter\n",
    "matplotlib.style.use('ggplot')\n",
    "py.offline.init_notebook_mode()\n",
    "import plotly.graph_objs as go\n",
    "import psycopg2\n",
    "import seaborn as sbn\n",
    "import requests\n",
    "import textatistic\n",
    "import networkx as nx\n",
    "from matplotlib import pyplot\n",
    "import matplotlib.pyplot as plt\n",
    "from IPython.display import display, Markdown"
   ]
  },
  {
   "cell_type": "code",
   "execution_count": null,
   "metadata": {},
   "outputs": [],
   "source": []
  },
  {
   "cell_type": "code",
   "execution_count": null,
   "metadata": {},
   "outputs": [],
   "source": [
    "aisles = pd.read_csv('/home/faculty/millbr02/pub/ecomm/aisles.csv')\n",
    "departments = pd.read_csv('/home/faculty/millbr02/pub/ecomm/departments.csv')\n",
    "#orderProd = pd.read_csv('/home/faculty/millbr02/pub/ecomm/order_products__prior.csv')\n",
    "orders_training = pd.read_csv('/home/faculty/millbr02/pub/ecomm/order_products__train.csv')\n",
    "orders= pd.read_csv('/home/faculty/millbr02/pub/ecomm/orders.csv')\n",
    "products = pd.read_csv('/home/faculty/millbr02/pub/ecomm/products.csv')\n",
    "#jayson= pd.read_json('/home/faculty/millbr02/pub/ecomm/item_item.json')\n",
    "\n"
   ]
  },
  {
   "cell_type": "code",
   "execution_count": null,
   "metadata": {},
   "outputs": [],
   "source": []
  },
  {
   "cell_type": "code",
   "execution_count": null,
   "metadata": {},
   "outputs": [],
   "source": [
    "orders.head()\n"
   ]
  },
  {
   "cell_type": "code",
   "execution_count": null,
   "metadata": {},
   "outputs": [],
   "source": [
    "products.head()"
   ]
  },
  {
   "cell_type": "code",
   "execution_count": null,
   "metadata": {},
   "outputs": [],
   "source": [
    "orders_training.head()"
   ]
  },
  {
   "cell_type": "code",
   "execution_count": null,
   "metadata": {},
   "outputs": [],
   "source": [
    "data_frame = orders_training[orders_training.add_to_cart_order == 1]"
   ]
  },
  {
   "cell_type": "code",
   "execution_count": null,
   "metadata": {},
   "outputs": [],
   "source": [
    "result = data_frame.groupby(data_frame.product_id)['product_id'].count().sort_values(ascending=False).head(1)\n",
    "\n",
    "new = pd.DataFrame(result)\n",
    "\n",
    "new.columns = ['Count']\n",
    "\n",
    "new = new.reset_index()"
   ]
  },
  {
   "cell_type": "code",
   "execution_count": null,
   "metadata": {},
   "outputs": [],
   "source": [
    "products[products.product_id == 24852]\n"
   ]
  },
  {
   "cell_type": "code",
   "execution_count": null,
   "metadata": {},
   "outputs": [],
   "source": [
    "merged = pd.merge(new, products)"
   ]
  },
  {
   "cell_type": "code",
   "execution_count": null,
   "metadata": {},
   "outputs": [],
   "source": [
    "merged"
   ]
  },
  {
   "cell_type": "code",
   "execution_count": null,
   "metadata": {},
   "outputs": [],
   "source": [
    "aco = orders_training.groupby('order_id')['add_to_cart_order'].max()\n",
    "aco = pd.DataFrame(aco)\n",
    "aco = aco.reset_index()"
   ]
  },
  {
   "cell_type": "code",
   "execution_count": null,
   "metadata": {},
   "outputs": [],
   "source": [
    "aco.head()\n"
   ]
  },
  {
   "cell_type": "code",
   "execution_count": null,
   "metadata": {},
   "outputs": [],
   "source": [
    "fig, axes = plt.subplots(nrows=1, ncols=1, figsize=(20,20))\n",
    "axes.violinplot(aco['add_to_cart_order'], showmeans=True, showmedians=True)"
   ]
  },
  {
   "cell_type": "code",
   "execution_count": null,
   "metadata": {},
   "outputs": [],
   "source": [
    "\n",
    "pivot = pd.pivot_table(orders_training[orders_training.order_id < 100], index='order_id', values='add_to_cart_order',columns='product_id' )"
   ]
  },
  {
   "cell_type": "code",
   "execution_count": null,
   "metadata": {},
   "outputs": [],
   "source": [
    "pivot\n"
   ]
  },
  {
   "cell_type": "code",
   "execution_count": null,
   "metadata": {},
   "outputs": [],
   "source": [
    "pivot.iloc[0][pivot.iloc[0].notnull()]\n"
   ]
  },
  {
   "cell_type": "code",
   "execution_count": null,
   "metadata": {},
   "outputs": [],
   "source": [
    "pivot.iloc[1][pivot.iloc[1].notnull()]\n"
   ]
  },
  {
   "cell_type": "code",
   "execution_count": null,
   "metadata": {},
   "outputs": [],
   "source": [
    "order_sorted = orders_training.sort_values('order_id').head(10)\n"
   ]
  },
  {
   "cell_type": "code",
   "execution_count": null,
   "metadata": {},
   "outputs": [],
   "source": [
    "train = order_sorted\n"
   ]
  },
  {
   "cell_type": "code",
   "execution_count": null,
   "metadata": {},
   "outputs": [],
   "source": [
    "productDict = {}\n",
    "for i,row in train.iterrows():\n",
    "    current = row['order_id']\n",
    "    if current not in productDict:\n",
    "        productDict[current] = [row['product_id']]\n",
    "    else:\n",
    "        productDict[current].append(row['product_id'])"
   ]
  },
  {
   "cell_type": "code",
   "execution_count": null,
   "metadata": {},
   "outputs": [],
   "source": [
    "prodtList = list(productDict.values())"
   ]
  },
  {
   "cell_type": "code",
   "execution_count": null,
   "metadata": {},
   "outputs": [],
   "source": [
    "product_id_matrix = {}\n",
    "for p_ids in prodtList:\n",
    "    for pid in p_ids:\n",
    "        if pid not in product_id_matrix:\n",
    "            count = 1\n",
    "            product_id_matrix[pid] = {k:count for k in p_ids if k!=i}\n",
    "        else:\n",
    "            for i in p_ids:\n",
    "                if i != pid:\n",
    "                    if i in product_id_matrix[pid]:\n",
    "                        product_id_matrix[pid][i] += count\n",
    "                    else:\n",
    "                        product_id_matrix[pid][i] = 1"
   ]
  },
  {
   "cell_type": "code",
   "execution_count": null,
   "metadata": {},
   "outputs": [],
   "source": [
    "product_id_matrix\n"
   ]
  },
  {
   "cell_type": "code",
   "execution_count": null,
   "metadata": {},
   "outputs": [],
   "source": [
    "aco = orders_training.groupby('order_id')\n",
    "\n"
   ]
  },
  {
   "cell_type": "code",
   "execution_count": null,
   "metadata": {},
   "outputs": [],
   "source": [
    "def item_name(product_id):\n",
    "    basket = []\n",
    "    suggestion = []\n",
    "    new_dict = product_id_matrix[product_id]\n",
    "    sorted_list = reversed(sorted(new_dict.items(), key=operator.itemgetter(1)))\n",
    "    for item in sorted_list:\n",
    "        basket.append(item)\n",
    "    while len(basket) > 20:\n",
    "        basket.pop()\n",
    "    for item in basket:\n",
    "        item = products[products.product_id == item[0]].product_name\n",
    "        suggestion.append(item)\n",
    "    return suggestion"
   ]
  },
  {
   "cell_type": "code",
   "execution_count": null,
   "metadata": {},
   "outputs": [],
   "source": [
    "\n",
    "products[products.product_id == 7]\n"
   ]
  },
  {
   "cell_type": "code",
   "execution_count": null,
   "metadata": {},
   "outputs": [],
   "source": [
    "products.count()"
   ]
  },
  {
   "cell_type": "code",
   "execution_count": null,
   "metadata": {},
   "outputs": [],
   "source": [
    "#random_df = products.sample(frac=1).reset_index(drop=True)\n",
    "#training_set = random_df.head(39750)\n",
    "#test_set = random_df.iloc[39750:].reset_index(drop=True)"
   ]
  },
  {
   "cell_type": "code",
   "execution_count": null,
   "metadata": {},
   "outputs": [],
   "source": [
    "training_set.count()"
   ]
  },
  {
   "cell_type": "code",
   "execution_count": null,
   "metadata": {
    "scrolled": true
   },
   "outputs": [],
   "source": [
    "test_set.count()"
   ]
  },
  {
   "cell_type": "code",
   "execution_count": null,
   "metadata": {},
   "outputs": [],
   "source": [
    "msk = np.random.rand(len(orders_training)) <0.8\n",
    "train = orders_training[msk]\n",
    "test = orders_training[~msk]\n"
   ]
  },
  {
   "cell_type": "code",
   "execution_count": null,
   "metadata": {},
   "outputs": [],
   "source": [
    "%%time\n",
    "print(len(train))\n",
    "print(len(test))"
   ]
  },
  {
   "cell_type": "code",
   "execution_count": null,
   "metadata": {},
   "outputs": [],
   "source": [
    "def getval(d):\n",
    "    return d[1]"
   ]
  },
  {
   "cell_type": "code",
   "execution_count": null,
   "metadata": {},
   "outputs": [],
   "source": [
    "def predictor(mat, item1, item2):\n",
    "    r = list(mat[item1].items()) + list(mat[item2].items())\n",
    "    r = sorted(recs, key=getval, reverse=True)\n",
    "    r = [recs[x][0] for x in range(min(5,len(r)))]\n",
    "    r = list(set(r))\n",
    "    return r"
   ]
  },
  {
   "cell_type": "code",
   "execution_count": null,
   "metadata": {},
   "outputs": [],
   "source": [
    "## Testing\n",
    "test.head()"
   ]
  },
  {
   "cell_type": "code",
   "execution_count": null,
   "metadata": {},
   "outputs": [],
   "source": [
    "tco = test.groupby('order_id')"
   ]
  },
  {
   "cell_type": "code",
   "execution_count": null,
   "metadata": {},
   "outputs": [],
   "source": [
    "hits = 0\n",
    "count = 0\n",
    "for order in tco.groups.keys():\n",
    "    contents = list(tco.get_group(order).sort_values('add_to_cart_order').product_id)\n",
    "    if len(contents) > 2:\n",
    "        count += 1\n",
    "        r = predictor(product_id_matrix, contents[0], contents[1])\n",
    "        basket = set(contents[3:])\n",
    "        r = set(r)\n",
    "        correct_r = r.intersection(basket)\n",
    "        if len(correct_r) >= 1:\n",
    "            hits += 1\n",
    "print(hits, count, hits/count)"
   ]
  },
  {
   "cell_type": "code",
   "execution_count": null,
   "metadata": {},
   "outputs": [],
   "source": [
    "print(predictor(product_id_matrix,12345,1213))\n"
   ]
  },
  {
   "cell_type": "code",
   "execution_count": null,
   "metadata": {},
   "outputs": [],
   "source": [
    "for p in predictor(product_id_matrix,12345,1213):\n",
    "    print(product[product.product_id == p].product_name)"
   ]
  },
  {
   "cell_type": "code",
   "execution_count": null,
   "metadata": {},
   "outputs": [],
   "source": []
  },
  {
   "cell_type": "code",
   "execution_count": null,
   "metadata": {},
   "outputs": [],
   "source": []
  },
  {
   "cell_type": "markdown",
   "metadata": {},
   "source": [
    "### Aisle to Aisle Matrix"
   ]
  },
  {
   "cell_type": "code",
   "execution_count": 266,
   "metadata": {},
   "outputs": [],
   "source": [
    "merge1 = products.merge(orders_training).sort_values(by='order_id').reset_index(drop=True)"
   ]
  },
  {
   "cell_type": "code",
   "execution_count": 267,
   "metadata": {},
   "outputs": [],
   "source": [
    "merge2 = merge1.set_index([\"order_id\"]).reset_index()\n"
   ]
  },
  {
   "cell_type": "code",
   "execution_count": 268,
   "metadata": {},
   "outputs": [],
   "source": [
    "grouped = merge2.groupby('order_id')\n"
   ]
  },
  {
   "cell_type": "code",
   "execution_count": 269,
   "metadata": {},
   "outputs": [
    {
     "data": {
      "text/html": [
       "<div>\n",
       "<style>\n",
       "    .dataframe thead tr:only-child th {\n",
       "        text-align: right;\n",
       "    }\n",
       "\n",
       "    .dataframe thead th {\n",
       "        text-align: left;\n",
       "    }\n",
       "\n",
       "    .dataframe tbody tr th {\n",
       "        vertical-align: top;\n",
       "    }\n",
       "</style>\n",
       "<table border=\"1\" class=\"dataframe\">\n",
       "  <thead>\n",
       "    <tr style=\"text-align: right;\">\n",
       "      <th></th>\n",
       "      <th>order_id</th>\n",
       "      <th>product_id</th>\n",
       "      <th>product_name</th>\n",
       "      <th>aisle_id</th>\n",
       "      <th>department_id</th>\n",
       "      <th>add_to_cart_order</th>\n",
       "      <th>reordered</th>\n",
       "    </tr>\n",
       "  </thead>\n",
       "  <tbody>\n",
       "    <tr>\n",
       "      <th>0</th>\n",
       "      <td>1</td>\n",
       "      <td>49302</td>\n",
       "      <td>Bulgarian Yogurt</td>\n",
       "      <td>120</td>\n",
       "      <td>16</td>\n",
       "      <td>1</td>\n",
       "      <td>1</td>\n",
       "    </tr>\n",
       "    <tr>\n",
       "      <th>1</th>\n",
       "      <td>1</td>\n",
       "      <td>11109</td>\n",
       "      <td>Organic 4% Milk Fat Whole Milk Cottage Cheese</td>\n",
       "      <td>108</td>\n",
       "      <td>16</td>\n",
       "      <td>2</td>\n",
       "      <td>1</td>\n",
       "    </tr>\n",
       "    <tr>\n",
       "      <th>2</th>\n",
       "      <td>1</td>\n",
       "      <td>10246</td>\n",
       "      <td>Organic Celery Hearts</td>\n",
       "      <td>83</td>\n",
       "      <td>4</td>\n",
       "      <td>3</td>\n",
       "      <td>0</td>\n",
       "    </tr>\n",
       "    <tr>\n",
       "      <th>3</th>\n",
       "      <td>1</td>\n",
       "      <td>49683</td>\n",
       "      <td>Cucumber Kirby</td>\n",
       "      <td>83</td>\n",
       "      <td>4</td>\n",
       "      <td>4</td>\n",
       "      <td>0</td>\n",
       "    </tr>\n",
       "    <tr>\n",
       "      <th>4</th>\n",
       "      <td>1</td>\n",
       "      <td>43633</td>\n",
       "      <td>Lightly Smoked Sardines in Olive Oil</td>\n",
       "      <td>95</td>\n",
       "      <td>15</td>\n",
       "      <td>5</td>\n",
       "      <td>1</td>\n",
       "    </tr>\n",
       "    <tr>\n",
       "      <th>5</th>\n",
       "      <td>1</td>\n",
       "      <td>13176</td>\n",
       "      <td>Bag of Organic Bananas</td>\n",
       "      <td>24</td>\n",
       "      <td>4</td>\n",
       "      <td>6</td>\n",
       "      <td>0</td>\n",
       "    </tr>\n",
       "    <tr>\n",
       "      <th>6</th>\n",
       "      <td>1</td>\n",
       "      <td>47209</td>\n",
       "      <td>Organic Hass Avocado</td>\n",
       "      <td>24</td>\n",
       "      <td>4</td>\n",
       "      <td>7</td>\n",
       "      <td>0</td>\n",
       "    </tr>\n",
       "    <tr>\n",
       "      <th>7</th>\n",
       "      <td>1</td>\n",
       "      <td>22035</td>\n",
       "      <td>Organic Whole String Cheese</td>\n",
       "      <td>21</td>\n",
       "      <td>16</td>\n",
       "      <td>8</td>\n",
       "      <td>1</td>\n",
       "    </tr>\n",
       "  </tbody>\n",
       "</table>\n",
       "</div>"
      ],
      "text/plain": [
       "   order_id  product_id                                   product_name  \\\n",
       "0         1       49302                               Bulgarian Yogurt   \n",
       "1         1       11109  Organic 4% Milk Fat Whole Milk Cottage Cheese   \n",
       "2         1       10246                          Organic Celery Hearts   \n",
       "3         1       49683                                 Cucumber Kirby   \n",
       "4         1       43633           Lightly Smoked Sardines in Olive Oil   \n",
       "5         1       13176                         Bag of Organic Bananas   \n",
       "6         1       47209                           Organic Hass Avocado   \n",
       "7         1       22035                    Organic Whole String Cheese   \n",
       "\n",
       "   aisle_id  department_id  add_to_cart_order  reordered  \n",
       "0       120             16                  1          1  \n",
       "1       108             16                  2          1  \n",
       "2        83              4                  3          0  \n",
       "3        83              4                  4          0  \n",
       "4        95             15                  5          1  \n",
       "5        24              4                  6          0  \n",
       "6        24              4                  7          0  \n",
       "7        21             16                  8          1  "
      ]
     },
     "execution_count": 269,
     "metadata": {},
     "output_type": "execute_result"
    }
   ],
   "source": [
    "grouped.get_group(1).sort_values(by='add_to_cart_order').reset_index(drop=True)\n"
   ]
  },
  {
   "cell_type": "code",
   "execution_count": 270,
   "metadata": {},
   "outputs": [
    {
     "name": "stdout",
     "output_type": "stream",
     "text": [
      "CPU times: user 2min 26s, sys: 560 ms, total: 2min 27s\n",
      "Wall time: 2min 26s\n"
     ]
    }
   ],
   "source": [
    "%%time\n",
    "aisles_to_aisles = {}\n",
    "for i in list(set(merge2.order_id)):\n",
    "    grouped2 = grouped.get_group(i).sort_values(by='add_to_cart_order').reset_index(drop=True)  \n",
    "    aisles_list = list(grouped_object_df.aisle_id)\n",
    "    \n",
    "    for item in list(zip(aisles_list,aisles_list[1:])):\n",
    "        if item[0] not in aisles_to_aisles:\n",
    "            aisles_to_aisles[item[0]] = {item[1]:1}\n",
    "        else:\n",
    "            if item[1] not in aisles_to_aisles[item[0]]:\n",
    "                aisles_to_aisles[item[0]][item[1]] = 1\n",
    "            else:\n",
    "                aisles_to_aisles[item[0]][item[1]] += 1"
   ]
  },
  {
   "cell_type": "code",
   "execution_count": 273,
   "metadata": {},
   "outputs": [
    {
     "data": {
      "text/plain": [
       "12"
      ]
     },
     "execution_count": 273,
     "metadata": {},
     "output_type": "execute_result"
    }
   ],
   "source": [
    "len(aisles_to_aisles)\n"
   ]
  },
  {
   "cell_type": "code",
   "execution_count": 274,
   "metadata": {},
   "outputs": [],
   "source": [
    "df = pd.DataFrame(aisles_to_aisles)\n"
   ]
  },
  {
   "cell_type": "code",
   "execution_count": 279,
   "metadata": {},
   "outputs": [
    {
     "data": {
      "text/html": [
       "<div>\n",
       "<style>\n",
       "    .dataframe thead tr:only-child th {\n",
       "        text-align: right;\n",
       "    }\n",
       "\n",
       "    .dataframe thead th {\n",
       "        text-align: left;\n",
       "    }\n",
       "\n",
       "    .dataframe tbody tr th {\n",
       "        vertical-align: top;\n",
       "    }\n",
       "</style>\n",
       "<table border=\"1\" class=\"dataframe\">\n",
       "  <thead>\n",
       "    <tr style=\"text-align: right;\">\n",
       "      <th></th>\n",
       "      <th>3</th>\n",
       "      <th>22</th>\n",
       "      <th>23</th>\n",
       "      <th>24</th>\n",
       "      <th>67</th>\n",
       "      <th>78</th>\n",
       "      <th>84</th>\n",
       "      <th>96</th>\n",
       "      <th>98</th>\n",
       "      <th>107</th>\n",
       "      <th>121</th>\n",
       "      <th>128</th>\n",
       "    </tr>\n",
       "  </thead>\n",
       "  <tbody>\n",
       "    <tr>\n",
       "      <th>3</th>\n",
       "      <td>131209.0</td>\n",
       "      <td>NaN</td>\n",
       "      <td>NaN</td>\n",
       "      <td>NaN</td>\n",
       "      <td>NaN</td>\n",
       "      <td>NaN</td>\n",
       "      <td>NaN</td>\n",
       "      <td>NaN</td>\n",
       "      <td>NaN</td>\n",
       "      <td>131209.0</td>\n",
       "      <td>NaN</td>\n",
       "      <td>NaN</td>\n",
       "    </tr>\n",
       "    <tr>\n",
       "      <th>22</th>\n",
       "      <td>NaN</td>\n",
       "      <td>NaN</td>\n",
       "      <td>NaN</td>\n",
       "      <td>NaN</td>\n",
       "      <td>NaN</td>\n",
       "      <td>NaN</td>\n",
       "      <td>NaN</td>\n",
       "      <td>NaN</td>\n",
       "      <td>NaN</td>\n",
       "      <td>131209.0</td>\n",
       "      <td>NaN</td>\n",
       "      <td>NaN</td>\n",
       "    </tr>\n",
       "    <tr>\n",
       "      <th>23</th>\n",
       "      <td>NaN</td>\n",
       "      <td>NaN</td>\n",
       "      <td>NaN</td>\n",
       "      <td>NaN</td>\n",
       "      <td>NaN</td>\n",
       "      <td>NaN</td>\n",
       "      <td>NaN</td>\n",
       "      <td>NaN</td>\n",
       "      <td>NaN</td>\n",
       "      <td>131209.0</td>\n",
       "      <td>NaN</td>\n",
       "      <td>NaN</td>\n",
       "    </tr>\n",
       "    <tr>\n",
       "      <th>24</th>\n",
       "      <td>NaN</td>\n",
       "      <td>NaN</td>\n",
       "      <td>NaN</td>\n",
       "      <td>131209.0</td>\n",
       "      <td>NaN</td>\n",
       "      <td>131209.0</td>\n",
       "      <td>NaN</td>\n",
       "      <td>NaN</td>\n",
       "      <td>NaN</td>\n",
       "      <td>NaN</td>\n",
       "      <td>NaN</td>\n",
       "      <td>NaN</td>\n",
       "    </tr>\n",
       "    <tr>\n",
       "      <th>67</th>\n",
       "      <td>NaN</td>\n",
       "      <td>131209.0</td>\n",
       "      <td>NaN</td>\n",
       "      <td>NaN</td>\n",
       "      <td>NaN</td>\n",
       "      <td>NaN</td>\n",
       "      <td>NaN</td>\n",
       "      <td>NaN</td>\n",
       "      <td>NaN</td>\n",
       "      <td>NaN</td>\n",
       "      <td>NaN</td>\n",
       "      <td>NaN</td>\n",
       "    </tr>\n",
       "  </tbody>\n",
       "</table>\n",
       "</div>"
      ],
      "text/plain": [
       "         3         22   23        24   67        78   84   96   98        107  \\\n",
       "3   131209.0       NaN  NaN       NaN  NaN       NaN  NaN  NaN  NaN  131209.0   \n",
       "22       NaN       NaN  NaN       NaN  NaN       NaN  NaN  NaN  NaN  131209.0   \n",
       "23       NaN       NaN  NaN       NaN  NaN       NaN  NaN  NaN  NaN  131209.0   \n",
       "24       NaN       NaN  NaN  131209.0  NaN  131209.0  NaN  NaN  NaN       NaN   \n",
       "67       NaN  131209.0  NaN       NaN  NaN       NaN  NaN  NaN  NaN       NaN   \n",
       "\n",
       "    121  128  \n",
       "3   NaN  NaN  \n",
       "22  NaN  NaN  \n",
       "23  NaN  NaN  \n",
       "24  NaN  NaN  \n",
       "67  NaN  NaN  "
      ]
     },
     "execution_count": 279,
     "metadata": {},
     "output_type": "execute_result"
    }
   ],
   "source": [
    "df.head()"
   ]
  },
  {
   "cell_type": "code",
   "execution_count": 305,
   "metadata": {},
   "outputs": [],
   "source": [
    "clean = clean.T\n",
    "clean_log = clean.apply(np.log).fillna(0)\n",
    "\n"
   ]
  },
  {
   "cell_type": "code",
   "execution_count": 306,
   "metadata": {},
   "outputs": [
    {
     "data": {
      "text/html": [
       "<div>\n",
       "<style>\n",
       "    .dataframe thead tr:only-child th {\n",
       "        text-align: right;\n",
       "    }\n",
       "\n",
       "    .dataframe thead th {\n",
       "        text-align: left;\n",
       "    }\n",
       "\n",
       "    .dataframe tbody tr th {\n",
       "        vertical-align: top;\n",
       "    }\n",
       "</style>\n",
       "<table border=\"1\" class=\"dataframe\">\n",
       "  <thead>\n",
       "    <tr style=\"text-align: right;\">\n",
       "      <th></th>\n",
       "      <th>3</th>\n",
       "      <th>22</th>\n",
       "      <th>23</th>\n",
       "      <th>24</th>\n",
       "      <th>67</th>\n",
       "      <th>78</th>\n",
       "      <th>84</th>\n",
       "      <th>92</th>\n",
       "      <th>96</th>\n",
       "      <th>98</th>\n",
       "      <th>107</th>\n",
       "      <th>121</th>\n",
       "      <th>128</th>\n",
       "    </tr>\n",
       "  </thead>\n",
       "  <tbody>\n",
       "    <tr>\n",
       "      <th>3</th>\n",
       "      <td>-inf</td>\n",
       "      <td>-inf</td>\n",
       "      <td>-inf</td>\n",
       "      <td>-inf</td>\n",
       "      <td>-inf</td>\n",
       "      <td>-inf</td>\n",
       "      <td>-inf</td>\n",
       "      <td>-inf</td>\n",
       "      <td>-inf</td>\n",
       "      <td>-inf</td>\n",
       "      <td>-inf</td>\n",
       "      <td>11.784547</td>\n",
       "      <td>-inf</td>\n",
       "    </tr>\n",
       "    <tr>\n",
       "      <th>22</th>\n",
       "      <td>-inf</td>\n",
       "      <td>-inf</td>\n",
       "      <td>-inf</td>\n",
       "      <td>-inf</td>\n",
       "      <td>11.784547</td>\n",
       "      <td>-inf</td>\n",
       "      <td>-inf</td>\n",
       "      <td>-inf</td>\n",
       "      <td>-inf</td>\n",
       "      <td>-inf</td>\n",
       "      <td>-inf</td>\n",
       "      <td>-inf</td>\n",
       "      <td>-inf</td>\n",
       "    </tr>\n",
       "    <tr>\n",
       "      <th>23</th>\n",
       "      <td>-inf</td>\n",
       "      <td>-inf</td>\n",
       "      <td>-inf</td>\n",
       "      <td>-inf</td>\n",
       "      <td>-inf</td>\n",
       "      <td>-inf</td>\n",
       "      <td>-inf</td>\n",
       "      <td>-inf</td>\n",
       "      <td>-inf</td>\n",
       "      <td>-inf</td>\n",
       "      <td>11.784547</td>\n",
       "      <td>-inf</td>\n",
       "      <td>-inf</td>\n",
       "    </tr>\n",
       "    <tr>\n",
       "      <th>24</th>\n",
       "      <td>-inf</td>\n",
       "      <td>-inf</td>\n",
       "      <td>-inf</td>\n",
       "      <td>-inf</td>\n",
       "      <td>-inf</td>\n",
       "      <td>-inf</td>\n",
       "      <td>-inf</td>\n",
       "      <td>11.784547</td>\n",
       "      <td>-inf</td>\n",
       "      <td>-inf</td>\n",
       "      <td>-inf</td>\n",
       "      <td>-inf</td>\n",
       "      <td>-inf</td>\n",
       "    </tr>\n",
       "    <tr>\n",
       "      <th>67</th>\n",
       "      <td>-inf</td>\n",
       "      <td>-inf</td>\n",
       "      <td>-inf</td>\n",
       "      <td>-inf</td>\n",
       "      <td>-inf</td>\n",
       "      <td>11.784547</td>\n",
       "      <td>-inf</td>\n",
       "      <td>-inf</td>\n",
       "      <td>-inf</td>\n",
       "      <td>-inf</td>\n",
       "      <td>-inf</td>\n",
       "      <td>-inf</td>\n",
       "      <td>-inf</td>\n",
       "    </tr>\n",
       "  </tbody>\n",
       "</table>\n",
       "</div>"
      ],
      "text/plain": [
       "    3    22   23   24         67         78   84         92   96   98   \\\n",
       "3  -inf -inf -inf -inf       -inf       -inf -inf       -inf -inf -inf   \n",
       "22 -inf -inf -inf -inf  11.784547       -inf -inf       -inf -inf -inf   \n",
       "23 -inf -inf -inf -inf       -inf       -inf -inf       -inf -inf -inf   \n",
       "24 -inf -inf -inf -inf       -inf       -inf -inf  11.784547 -inf -inf   \n",
       "67 -inf -inf -inf -inf       -inf  11.784547 -inf       -inf -inf -inf   \n",
       "\n",
       "          107        121  128  \n",
       "3        -inf  11.784547 -inf  \n",
       "22       -inf       -inf -inf  \n",
       "23  11.784547       -inf -inf  \n",
       "24       -inf       -inf -inf  \n",
       "67       -inf       -inf -inf  "
      ]
     },
     "execution_count": 306,
     "metadata": {},
     "output_type": "execute_result"
    }
   ],
   "source": [
    "clean_log.head()"
   ]
  },
  {
   "cell_type": "code",
   "execution_count": 287,
   "metadata": {},
   "outputs": [
    {
     "data": {
      "text/plain": [
       "([array([ 10.,   0.,   0.,   2.,   0.,   0.,   0.,   0.,   0.,   0.]),\n",
       "  array([ 11.,   0.,   0.,   1.,   0.,   0.,   0.,   0.,   0.,   0.]),\n",
       "  array([ 11.,   0.,   0.,   1.,   0.,   0.,   0.,   0.,   0.,   0.]),\n",
       "  array([ 10.,   0.,   0.,   2.,   0.,   0.,   0.,   0.,   0.,   0.]),\n",
       "  array([ 11.,   0.,   0.,   1.,   0.,   0.,   0.,   0.,   0.,   0.]),\n",
       "  array([ 10.,   0.,   0.,   2.,   0.,   0.,   0.,   0.,   0.,   0.]),\n",
       "  array([ 11.,   0.,   0.,   1.,   0.,   0.,   0.,   0.,   0.,   0.]),\n",
       "  array([ 11.,   0.,   0.,   1.,   0.,   0.,   0.,   0.,   0.,   0.]),\n",
       "  array([ 11.,   0.,   0.,   1.,   0.,   0.,   0.,   0.,   0.,   0.]),\n",
       "  array([ 11.,   0.,   0.,   1.,   0.,   0.,   0.,   0.,   0.,   0.]),\n",
       "  array([ 8.,  0.,  0.,  3.,  0.,  0.,  0.,  0.,  0.,  1.]),\n",
       "  array([ 11.,   0.,   0.,   1.,   0.,   0.,   0.,   0.,   0.,   0.]),\n",
       "  array([ 11.,   0.,   0.,   1.,   0.,   0.,   0.,   0.,   0.,   0.])],\n",
       " array([      0. ,   39362.7,   78725.4,  118088.1,  157450.8,  196813.5,\n",
       "         236176.2,  275538.9,  314901.6,  354264.3,  393627. ]),\n",
       " <a list of 13 Lists of Patches objects>)"
      ]
     },
     "execution_count": 287,
     "metadata": {},
     "output_type": "execute_result"
    },
    {
     "data": {
      "image/png": "[encoded data removed]",
      "text/plain": [
       "<matplotlib.figure.Figure at 0x7fc03b6692e8>"
      ]
     },
     "metadata": {},
     "output_type": "display_data"
    }
   ],
   "source": [
    "plt.hist(clean)"
   ]
  },
  {
   "cell_type": "code",
   "execution_count": 307,
   "metadata": {},
   "outputs": [],
   "source": [
    "cutoff_trying = aisles_to_aisles.copy()\n"
   ]
  },
  {
   "cell_type": "code",
   "execution_count": 308,
   "metadata": {},
   "outputs": [],
   "source": [
    "for key in cutoff_trying:\n",
    "    for k in cutoff_trying[key]:\n",
    "        if cutoff_trying[key][k] < 1000 or key == k:\n",
    "            cutoff_trying[key][k] = np.nan"
   ]
  },
  {
   "cell_type": "code",
   "execution_count": 309,
   "metadata": {},
   "outputs": [],
   "source": [
    "cutoff_trying = pd.DataFrame(cutoff_trying).fillna(0)\n"
   ]
  },
  {
   "cell_type": "code",
   "execution_count": 310,
   "metadata": {},
   "outputs": [
    {
     "data": {
      "text/html": [
       "<div>\n",
       "<style>\n",
       "    .dataframe thead tr:only-child th {\n",
       "        text-align: right;\n",
       "    }\n",
       "\n",
       "    .dataframe thead th {\n",
       "        text-align: left;\n",
       "    }\n",
       "\n",
       "    .dataframe tbody tr th {\n",
       "        vertical-align: top;\n",
       "    }\n",
       "</style>\n",
       "<table border=\"1\" class=\"dataframe\">\n",
       "  <thead>\n",
       "    <tr style=\"text-align: right;\">\n",
       "      <th></th>\n",
       "      <th>3</th>\n",
       "      <th>22</th>\n",
       "      <th>23</th>\n",
       "      <th>24</th>\n",
       "      <th>67</th>\n",
       "      <th>78</th>\n",
       "      <th>84</th>\n",
       "      <th>96</th>\n",
       "      <th>98</th>\n",
       "      <th>107</th>\n",
       "      <th>121</th>\n",
       "      <th>128</th>\n",
       "    </tr>\n",
       "  </thead>\n",
       "  <tbody>\n",
       "    <tr>\n",
       "      <th>3</th>\n",
       "      <td>0.0</td>\n",
       "      <td>0.0</td>\n",
       "      <td>0.0</td>\n",
       "      <td>0.0</td>\n",
       "      <td>0.0</td>\n",
       "      <td>0.0</td>\n",
       "      <td>0.0</td>\n",
       "      <td>0.0</td>\n",
       "      <td>0.0</td>\n",
       "      <td>131209.0</td>\n",
       "      <td>0.0</td>\n",
       "      <td>0.0</td>\n",
       "    </tr>\n",
       "    <tr>\n",
       "      <th>22</th>\n",
       "      <td>0.0</td>\n",
       "      <td>0.0</td>\n",
       "      <td>0.0</td>\n",
       "      <td>0.0</td>\n",
       "      <td>0.0</td>\n",
       "      <td>0.0</td>\n",
       "      <td>0.0</td>\n",
       "      <td>0.0</td>\n",
       "      <td>0.0</td>\n",
       "      <td>131209.0</td>\n",
       "      <td>0.0</td>\n",
       "      <td>0.0</td>\n",
       "    </tr>\n",
       "    <tr>\n",
       "      <th>23</th>\n",
       "      <td>0.0</td>\n",
       "      <td>0.0</td>\n",
       "      <td>0.0</td>\n",
       "      <td>0.0</td>\n",
       "      <td>0.0</td>\n",
       "      <td>0.0</td>\n",
       "      <td>0.0</td>\n",
       "      <td>0.0</td>\n",
       "      <td>0.0</td>\n",
       "      <td>131209.0</td>\n",
       "      <td>0.0</td>\n",
       "      <td>0.0</td>\n",
       "    </tr>\n",
       "    <tr>\n",
       "      <th>24</th>\n",
       "      <td>0.0</td>\n",
       "      <td>0.0</td>\n",
       "      <td>0.0</td>\n",
       "      <td>0.0</td>\n",
       "      <td>0.0</td>\n",
       "      <td>131209.0</td>\n",
       "      <td>0.0</td>\n",
       "      <td>0.0</td>\n",
       "      <td>0.0</td>\n",
       "      <td>0.0</td>\n",
       "      <td>0.0</td>\n",
       "      <td>0.0</td>\n",
       "    </tr>\n",
       "    <tr>\n",
       "      <th>67</th>\n",
       "      <td>0.0</td>\n",
       "      <td>131209.0</td>\n",
       "      <td>0.0</td>\n",
       "      <td>0.0</td>\n",
       "      <td>0.0</td>\n",
       "      <td>0.0</td>\n",
       "      <td>0.0</td>\n",
       "      <td>0.0</td>\n",
       "      <td>0.0</td>\n",
       "      <td>0.0</td>\n",
       "      <td>0.0</td>\n",
       "      <td>0.0</td>\n",
       "    </tr>\n",
       "  </tbody>\n",
       "</table>\n",
       "</div>"
      ],
      "text/plain": [
       "    3         22   23   24   67        78   84   96   98        107  121  128\n",
       "3   0.0       0.0  0.0  0.0  0.0       0.0  0.0  0.0  0.0  131209.0  0.0  0.0\n",
       "22  0.0       0.0  0.0  0.0  0.0       0.0  0.0  0.0  0.0  131209.0  0.0  0.0\n",
       "23  0.0       0.0  0.0  0.0  0.0       0.0  0.0  0.0  0.0  131209.0  0.0  0.0\n",
       "24  0.0       0.0  0.0  0.0  0.0  131209.0  0.0  0.0  0.0       0.0  0.0  0.0\n",
       "67  0.0  131209.0  0.0  0.0  0.0       0.0  0.0  0.0  0.0       0.0  0.0  0.0"
      ]
     },
     "execution_count": 310,
     "metadata": {},
     "output_type": "execute_result"
    }
   ],
   "source": [
    "cutoff_trying.head()\n"
   ]
  },
  {
   "cell_type": "code",
   "execution_count": 311,
   "metadata": {},
   "outputs": [],
   "source": [
    "list_of_lists = []\n",
    "\n",
    "for row in cutoff_trying.iterrows():\n",
    "    index, data = row\n",
    "    list_of_lists.append(data.tolist())"
   ]
  },
  {
   "cell_type": "code",
   "execution_count": 312,
   "metadata": {},
   "outputs": [],
   "source": [
    "#highest range of flowing aisles\n",
    "i = 1\n",
    "most_ocur = []\n",
    "for sub in list_of_lists:\n",
    "    if sum(sub) != 0:\n",
    "        most_ocur.append([i, sum(sub)])\n",
    "    i += 1"
   ]
  },
  {
   "cell_type": "code",
   "execution_count": 313,
   "metadata": {},
   "outputs": [],
   "source": [
    "from operator import itemgetter\n",
    "most_ocur = sorted(most_ocur, key=itemgetter(1), reverse=True)"
   ]
  },
  {
   "cell_type": "code",
   "execution_count": 314,
   "metadata": {},
   "outputs": [
    {
     "data": {
      "text/plain": [
       "[[11, 393627.0],\n",
       " [6, 262418.0],\n",
       " [1, 131209.0],\n",
       " [2, 131209.0],\n",
       " [3, 131209.0],\n",
       " [4, 131209.0],\n",
       " [5, 131209.0],\n",
       " [7, 131209.0],\n",
       " [8, 131209.0],\n",
       " [9, 131209.0],\n",
       " [10, 131209.0],\n",
       " [12, 131209.0],\n",
       " [13, 131209.0]]"
      ]
     },
     "execution_count": 314,
     "metadata": {},
     "output_type": "execute_result"
    }
   ],
   "source": [
    "most_ocur\n"
   ]
  },
  {
   "cell_type": "code",
   "execution_count": 299,
   "metadata": {},
   "outputs": [],
   "source": [
    "while len(most_ocur) > 10:\n",
    "    del most_ocur[-1]"
   ]
  },
  {
   "cell_type": "code",
   "execution_count": 300,
   "metadata": {},
   "outputs": [
    {
     "data": {
      "text/plain": [
       "[[11, 393627.0],\n",
       " [6, 262418.0],\n",
       " [1, 131209.0],\n",
       " [2, 131209.0],\n",
       " [3, 131209.0],\n",
       " [4, 131209.0],\n",
       " [5, 131209.0],\n",
       " [7, 131209.0],\n",
       " [8, 131209.0],\n",
       " [9, 131209.0]]"
      ]
     },
     "execution_count": 300,
     "metadata": {},
     "output_type": "execute_result"
    }
   ],
   "source": [
    "most_ocur"
   ]
  },
  {
   "cell_type": "code",
   "execution_count": 301,
   "metadata": {},
   "outputs": [],
   "source": [
    "#Creating a list of top flowing rows\n",
    "top_list = [11,6,1,2,3,4,5,6,7,8,9]\n"
   ]
  },
  {
   "cell_type": "code",
   "execution_count": 302,
   "metadata": {},
   "outputs": [],
   "source": [
    "frequent = pd.DataFrame(columns = [11,6,1,2,3,4,5,6,7,8,9])"
   ]
  },
  {
   "cell_type": "code",
   "execution_count": 315,
   "metadata": {},
   "outputs": [
    {
     "ename": "IndexError",
     "evalue": "single positional indexer is out-of-bounds",
     "output_type": "error",
     "traceback": [
      "\u001b[0;31m---------------------------------------------------------------------------\u001b[0m",
      "\u001b[0;31mIndexError\u001b[0m                                Traceback (most recent call last)",
      "\u001b[0;32m<ipython-input-315-3275ebe84d00>\u001b[0m in \u001b[0;36m<module>\u001b[0;34m()\u001b[0m\n\u001b[1;32m      1\u001b[0m \u001b[0;32mfor\u001b[0m \u001b[0mi\u001b[0m \u001b[0;32min\u001b[0m \u001b[0mfrequent\u001b[0m\u001b[0;34m:\u001b[0m\u001b[0;34m\u001b[0m\u001b[0m\n\u001b[0;32m----> 2\u001b[0;31m     \u001b[0mfrequent\u001b[0m \u001b[0;34m=\u001b[0m \u001b[0mfrequent\u001b[0m\u001b[0;34m.\u001b[0m\u001b[0mappend\u001b[0m\u001b[0;34m(\u001b[0m\u001b[0mclean_log\u001b[0m\u001b[0;34m.\u001b[0m\u001b[0miloc\u001b[0m\u001b[0;34m[\u001b[0m\u001b[0mitem\u001b[0m\u001b[0;34m[\u001b[0m\u001b[0;36m0\u001b[0m\u001b[0;34m]\u001b[0m\u001b[0;34m]\u001b[0m\u001b[0;34m)\u001b[0m\u001b[0;34m\u001b[0m\u001b[0m\n\u001b[0m",
      "\u001b[0;32m/usr/local/lib/python3.5/site-packages/pandas/core/indexing.py\u001b[0m in \u001b[0;36m__getitem__\u001b[0;34m(self, key)\u001b[0m\n\u001b[1;32m   1326\u001b[0m         \u001b[0;32melse\u001b[0m\u001b[0;34m:\u001b[0m\u001b[0;34m\u001b[0m\u001b[0m\n\u001b[1;32m   1327\u001b[0m             \u001b[0mkey\u001b[0m \u001b[0;34m=\u001b[0m \u001b[0mcom\u001b[0m\u001b[0;34m.\u001b[0m\u001b[0m_apply_if_callable\u001b[0m\u001b[0;34m(\u001b[0m\u001b[0mkey\u001b[0m\u001b[0;34m,\u001b[0m \u001b[0mself\u001b[0m\u001b[0;34m.\u001b[0m\u001b[0mobj\u001b[0m\u001b[0;34m)\u001b[0m\u001b[0;34m\u001b[0m\u001b[0m\n\u001b[0;32m-> 1328\u001b[0;31m             \u001b[0;32mreturn\u001b[0m \u001b[0mself\u001b[0m\u001b[0;34m.\u001b[0m\u001b[0m_getitem_axis\u001b[0m\u001b[0;34m(\u001b[0m\u001b[0mkey\u001b[0m\u001b[0;34m,\u001b[0m \u001b[0maxis\u001b[0m\u001b[0;34m=\u001b[0m\u001b[0;36m0\u001b[0m\u001b[0;34m)\u001b[0m\u001b[0;34m\u001b[0m\u001b[0m\n\u001b[0m\u001b[1;32m   1329\u001b[0m \u001b[0;34m\u001b[0m\u001b[0m\n\u001b[1;32m   1330\u001b[0m     \u001b[0;32mdef\u001b[0m \u001b[0m_is_scalar_access\u001b[0m\u001b[0;34m(\u001b[0m\u001b[0mself\u001b[0m\u001b[0;34m,\u001b[0m \u001b[0mkey\u001b[0m\u001b[0;34m)\u001b[0m\u001b[0;34m:\u001b[0m\u001b[0;34m\u001b[0m\u001b[0m\n",
      "\u001b[0;32m/usr/local/lib/python3.5/site-packages/pandas/core/indexing.py\u001b[0m in \u001b[0;36m_getitem_axis\u001b[0;34m(self, key, axis)\u001b[0m\n\u001b[1;32m   1747\u001b[0m \u001b[0;34m\u001b[0m\u001b[0m\n\u001b[1;32m   1748\u001b[0m             \u001b[0;31m# validate the location\u001b[0m\u001b[0;34m\u001b[0m\u001b[0;34m\u001b[0m\u001b[0m\n\u001b[0;32m-> 1749\u001b[0;31m             \u001b[0mself\u001b[0m\u001b[0;34m.\u001b[0m\u001b[0m_is_valid_integer\u001b[0m\u001b[0;34m(\u001b[0m\u001b[0mkey\u001b[0m\u001b[0;34m,\u001b[0m \u001b[0maxis\u001b[0m\u001b[0;34m)\u001b[0m\u001b[0;34m\u001b[0m\u001b[0m\n\u001b[0m\u001b[1;32m   1750\u001b[0m \u001b[0;34m\u001b[0m\u001b[0m\n\u001b[1;32m   1751\u001b[0m             \u001b[0;32mreturn\u001b[0m \u001b[0mself\u001b[0m\u001b[0;34m.\u001b[0m\u001b[0m_get_loc\u001b[0m\u001b[0;34m(\u001b[0m\u001b[0mkey\u001b[0m\u001b[0;34m,\u001b[0m \u001b[0maxis\u001b[0m\u001b[0;34m=\u001b[0m\u001b[0maxis\u001b[0m\u001b[0;34m)\u001b[0m\u001b[0;34m\u001b[0m\u001b[0m\n",
      "\u001b[0;32m/usr/local/lib/python3.5/site-packages/pandas/core/indexing.py\u001b[0m in \u001b[0;36m_is_valid_integer\u001b[0;34m(self, key, axis)\u001b[0m\n\u001b[1;32m   1636\u001b[0m         \u001b[0ml\u001b[0m \u001b[0;34m=\u001b[0m \u001b[0mlen\u001b[0m\u001b[0;34m(\u001b[0m\u001b[0max\u001b[0m\u001b[0;34m)\u001b[0m\u001b[0;34m\u001b[0m\u001b[0m\n\u001b[1;32m   1637\u001b[0m         \u001b[0;32mif\u001b[0m \u001b[0mkey\u001b[0m \u001b[0;34m>=\u001b[0m \u001b[0ml\u001b[0m \u001b[0;32mor\u001b[0m \u001b[0mkey\u001b[0m \u001b[0;34m<\u001b[0m \u001b[0;34m-\u001b[0m\u001b[0ml\u001b[0m\u001b[0;34m:\u001b[0m\u001b[0;34m\u001b[0m\u001b[0m\n\u001b[0;32m-> 1638\u001b[0;31m             \u001b[0;32mraise\u001b[0m \u001b[0mIndexError\u001b[0m\u001b[0;34m(\u001b[0m\u001b[0;34m\"single positional indexer is out-of-bounds\"\u001b[0m\u001b[0;34m)\u001b[0m\u001b[0;34m\u001b[0m\u001b[0m\n\u001b[0m\u001b[1;32m   1639\u001b[0m         \u001b[0;32mreturn\u001b[0m \u001b[0;32mTrue\u001b[0m\u001b[0;34m\u001b[0m\u001b[0m\n\u001b[1;32m   1640\u001b[0m \u001b[0;34m\u001b[0m\u001b[0m\n",
      "\u001b[0;31mIndexError\u001b[0m: single positional indexer is out-of-bounds"
     ]
    }
   ],
   "source": [
    "for i in frequent:\n",
    "    frequent = frequent.append(clean_log.iloc[item[0]])"
   ]
  },
  {
   "cell_type": "code",
   "execution_count": 318,
   "metadata": {},
   "outputs": [
    {
     "ename": "TypeError",
     "evalue": "cannot perform __sub__ with this index type: <class 'pandas.core.indexes.base.Index'>",
     "output_type": "error",
     "traceback": [
      "\u001b[0;31m---------------------------------------------------------------------------\u001b[0m",
      "\u001b[0;31mTypeError\u001b[0m                                 Traceback (most recent call last)",
      "\u001b[0;32m<ipython-input-318-2ba191d9a767>\u001b[0m in \u001b[0;36m<module>\u001b[0;34m()\u001b[0m\n\u001b[0;32m----> 1\u001b[0;31m \u001b[0mfrequent\u001b[0m\u001b[0;34m.\u001b[0m\u001b[0mindex\u001b[0m \u001b[0;34m-=\u001b[0m\u001b[0;36m1\u001b[0m\u001b[0;34m\u001b[0m\u001b[0m\n\u001b[0m",
      "\u001b[0;32m/usr/local/lib/python3.5/site-packages/pandas/core/indexes/base.py\u001b[0m in \u001b[0;36m__sub__\u001b[0;34m(self, other)\u001b[0m\n\u001b[1;32m   2101\u001b[0m     \u001b[0;32mdef\u001b[0m \u001b[0m__sub__\u001b[0m\u001b[0;34m(\u001b[0m\u001b[0mself\u001b[0m\u001b[0;34m,\u001b[0m \u001b[0mother\u001b[0m\u001b[0;34m)\u001b[0m\u001b[0;34m:\u001b[0m\u001b[0;34m\u001b[0m\u001b[0m\n\u001b[1;32m   2102\u001b[0m         raise TypeError(\"cannot perform __sub__ with this index type: \"\n\u001b[0;32m-> 2103\u001b[0;31m                         \"{typ}\".format(typ=type(self)))\n\u001b[0m\u001b[1;32m   2104\u001b[0m \u001b[0;34m\u001b[0m\u001b[0m\n\u001b[1;32m   2105\u001b[0m     \u001b[0;32mdef\u001b[0m \u001b[0m__and__\u001b[0m\u001b[0;34m(\u001b[0m\u001b[0mself\u001b[0m\u001b[0;34m,\u001b[0m \u001b[0mother\u001b[0m\u001b[0;34m)\u001b[0m\u001b[0;34m:\u001b[0m\u001b[0;34m\u001b[0m\u001b[0m\n",
      "\u001b[0;31mTypeError\u001b[0m: cannot perform __sub__ with this index type: <class 'pandas.core.indexes.base.Index'>"
     ]
    }
   ],
   "source": [
    "frequent.index -=1"
   ]
  },
  {
   "cell_type": "code",
   "execution_count": 319,
   "metadata": {},
   "outputs": [],
   "source": [
    "frequent = frequent.fillna(0)"
   ]
  },
  {
   "cell_type": "code",
   "execution_count": 320,
   "metadata": {},
   "outputs": [
    {
     "data": {
      "text/html": [
       "<div>\n",
       "<style>\n",
       "    .dataframe thead tr:only-child th {\n",
       "        text-align: right;\n",
       "    }\n",
       "\n",
       "    .dataframe thead th {\n",
       "        text-align: left;\n",
       "    }\n",
       "\n",
       "    .dataframe tbody tr th {\n",
       "        vertical-align: top;\n",
       "    }\n",
       "</style>\n",
       "<table border=\"1\" class=\"dataframe\">\n",
       "  <thead>\n",
       "    <tr style=\"text-align: right;\">\n",
       "      <th></th>\n",
       "      <th>11</th>\n",
       "      <th>6</th>\n",
       "      <th>1</th>\n",
       "      <th>2</th>\n",
       "      <th>3</th>\n",
       "      <th>4</th>\n",
       "      <th>5</th>\n",
       "      <th>6</th>\n",
       "      <th>7</th>\n",
       "      <th>8</th>\n",
       "      <th>9</th>\n",
       "    </tr>\n",
       "  </thead>\n",
       "  <tbody>\n",
       "  </tbody>\n",
       "</table>\n",
       "</div>"
      ],
      "text/plain": [
       "Empty DataFrame\n",
       "Columns: [11, 6, 1, 2, 3, 4, 5, 6, 7, 8, 9]\n",
       "Index: []"
      ]
     },
     "execution_count": 320,
     "metadata": {},
     "output_type": "execute_result"
    }
   ],
   "source": [
    "frequent"
   ]
  },
  {
   "cell_type": "code",
   "execution_count": 321,
   "metadata": {},
   "outputs": [],
   "source": [
    "df = frequent[[11,6,1,2,3,4,5,6,7,8,9]]"
   ]
  },
  {
   "cell_type": "code",
   "execution_count": 322,
   "metadata": {},
   "outputs": [
    {
     "data": {
      "text/html": [
       "<div>\n",
       "<style>\n",
       "    .dataframe thead tr:only-child th {\n",
       "        text-align: right;\n",
       "    }\n",
       "\n",
       "    .dataframe thead th {\n",
       "        text-align: left;\n",
       "    }\n",
       "\n",
       "    .dataframe tbody tr th {\n",
       "        vertical-align: top;\n",
       "    }\n",
       "</style>\n",
       "<table border=\"1\" class=\"dataframe\">\n",
       "  <thead>\n",
       "    <tr style=\"text-align: right;\">\n",
       "      <th></th>\n",
       "      <th>11</th>\n",
       "      <th>6</th>\n",
       "      <th>6</th>\n",
       "      <th>1</th>\n",
       "      <th>2</th>\n",
       "      <th>3</th>\n",
       "      <th>4</th>\n",
       "      <th>5</th>\n",
       "      <th>6</th>\n",
       "      <th>6</th>\n",
       "      <th>7</th>\n",
       "      <th>8</th>\n",
       "      <th>9</th>\n",
       "    </tr>\n",
       "  </thead>\n",
       "  <tbody>\n",
       "  </tbody>\n",
       "</table>\n",
       "</div>"
      ],
      "text/plain": [
       "Empty DataFrame\n",
       "Columns: [11, 6, 6, 1, 2, 3, 4, 5, 6, 6, 7, 8, 9]\n",
       "Index: []"
      ]
     },
     "execution_count": 322,
     "metadata": {},
     "output_type": "execute_result"
    }
   ],
   "source": [
    "df"
   ]
  },
  {
   "cell_type": "code",
   "execution_count": 323,
   "metadata": {},
   "outputs": [],
   "source": [
    "list_of_lists = []\n",
    "\n",
    "for row in df.iterrows():\n",
    "    index, data = row\n",
    "    list_of_lists.append(data.tolist())"
   ]
  },
  {
   "cell_type": "code",
   "execution_count": 324,
   "metadata": {},
   "outputs": [
    {
     "data": {
      "text/plain": [
       "[]"
      ]
     },
     "execution_count": 324,
     "metadata": {},
     "output_type": "execute_result"
    }
   ],
   "source": [
    "list_of_lists\n"
   ]
  },
  {
   "cell_type": "code",
   "execution_count": null,
   "metadata": {},
   "outputs": [],
   "source": [
    "#HEAT MAP"
   ]
  },
  {
   "cell_type": "code",
   "execution_count": 326,
   "metadata": {},
   "outputs": [
    {
     "data": {
      "image/png": "[encoded data removed]",
      "text/plain": [
       "<matplotlib.figure.Figure at 0x7fc03b842470>"
      ]
     },
     "metadata": {},
     "output_type": "display_data"
    }
   ],
   "source": [
    "a4_dims = (15, 10)\n",
    "fig, ax = pyplot.subplots(figsize=a4_dims)\n",
    "ax = sbn.heatmap(clean, vmin=0,center=0, annot=True, linewidths=.5, cmap=\"YlGnBu\")"
   ]
  },
  {
   "cell_type": "code",
   "execution_count": null,
   "metadata": {},
   "outputs": [],
   "source": [
    "%%time\n",
    "g = nx.DiGraph()\n",
    "g.add_nodes_from(clean)\n",
    "\n",
    "for i in list(set(new_flow.order_id)):\n",
    "    \n",
    "    grouped_object_df = grouped_object.get_group(i).sort_values(by='add_to_cart_order').reset_index(drop=True)\n",
    "    \n",
    "    aisles_list = list(grouped_object_df.aisle_id)#grouped_object.get_group(i).sort_values(by='add_to_cart_order').reset_index(drop=True).aisle_id)\n",
    "    \n",
    "    g.add_edges_from(list(zip(aisles_list,aisles_list[1:])))\n",
    "\n",
    "        \n",
    "gfig, gax = plt.subplots(figsize = (50,50))\n",
    "nx.draw(g,nx.spring_layout(g, k=0.4, iterations = 1), ax=gax, with_labels = True, font_size = 50, node_size = 15)"
   ]
  },
  {
   "cell_type": "code",
   "execution_count": null,
   "metadata": {},
   "outputs": [],
   "source": [
    "%load_ext py_d3\n"
   ]
  },
  {
   "cell_type": "code",
   "execution_count": null,
   "metadata": {},
   "outputs": [],
   "source": [
    "%%d3 4.11.0\n",
    "\n",
    "<style>\n",
    "\n",
    ".group-tick line {\n",
    "  stroke: #000;\n",
    "}\n",
    "\n",
    ".ribbons {\n",
    "  fill-opacity: 0.67;\n",
    "}\n",
    "</style>\n",
    "\n",
    "<svg width=960 height=960></svg>\n",
    "\n",
    "<script>\n",
    "var matrix =[[121.0, 162.0, 96.0, 58.0, 52.0, 21.0, 22.0, 25.0, 44.0, 40.0],\n",
    " [4412.0, 2032.0, 1448.0, 1933.0, 938.0, 1540.0, 172.0, 345.0, 529.0, 939.0],\n",
    " [44.0, 20.0, 19.0, 6.0, 12.0, 12.0, 1.0, 4.0, 21.0, 2.0],\n",
    " [1123.0, 683.0, 504.0, 554.0, 373.0, 517.0, 50.0, 172.0, 417.0, 425.0],\n",
    " [35.0, 44.0, 35.0, 29.0, 15.0, 20.0, 4.0, 12.0, 19.0, 14.0],\n",
    " [130.0, 103.0, 75.0, 44.0, 41.0, 31.0, 12.0, 22.0, 42.0, 23.0],\n",
    " [745.0, 856.0, 364.0, 221.0, 249.0, 266.0, 107.0, 154.0, 123.0, 237.0],\n",
    " [982.0, 815.0, 547.0, 341.0, 313.0, 163.0, 104.0, 161.0, 335.0, 200.0],\n",
    " [928.0, 1058.0, 528.0, 444.0, 816.0, 286.0, 143.0, 154.0, 308.0, 169.0],\n",
    " [713.0, 530.0, 334.0, 370.0, 212.0, 184.0, 21.0, 135.0, 141.0, 101.0]];\n",
    "\n",
    "var svg = d3.select(\"svg\"),\n",
    "    width = +svg.attr(\"width\"),\n",
    "    height = +svg.attr(\"height\"),\n",
    "    outerRadius = Math.min(width, height) * 0.5 - 40,\n",
    "    innerRadius = outerRadius - 30;\n",
    "\n",
    "var formatValue = d3.formatPrefix(\",.0\", 1e3);\n",
    "\n",
    "var chord = d3.chord()\n",
    "    .padAngle(0.05)\n",
    "    .sortSubgroups(d3.descending);\n",
    "\n",
    "var arc = d3.arc()\n",
    "    .innerRadius(innerRadius)\n",
    "    .outerRadius(outerRadius);\n",
    "\n",
    "var ribbon = d3.ribbon()\n",
    "    .radius(innerRadius);\n",
    "\n",
    "var color = d3.scaleOrdinal()\n",
    "    .domain(d3.range(4))\n",
    "    .range([\"#000000\", \"#FFDD89\", \"#957244\", \"#F26223\"]);\n",
    "\n",
    "var g = svg.append(\"g\")\n",
    "    .attr(\"transform\", \"translate(\" + width / 2 + \",\" + height / 2 + \")\")\n",
    "    .datum(chord(matrix));\n",
    "\n",
    "var group = g.append(\"g\")\n",
    "    .attr(\"class\", \"groups\")\n",
    "  .selectAll(\"g\")\n",
    "  .data(function(chords) { return chords.groups; })\n",
    "  .enter().append(\"g\");\n",
    "\n",
    "group.append(\"path\")\n",
    "    .style(\"fill\", function(d) { return color(d.index); })\n",
    "    .style(\"stroke\", function(d) { return d3.rgb(color(d.index)).darker(); })\n",
    "    .attr(\"d\", arc);\n",
    "\n",
    "var groupTick = group.selectAll(\".group-tick\")\n",
    "  .data(function(d) { return groupTicks(d, 1e3); })\n",
    "  .enter().append(\"g\")\n",
    "    .attr(\"class\", \"group-tick\")\n",
    "    .attr(\"transform\", function(d) { return \"rotate(\" + (d.angle * 180 / Math.PI - 90) + \") translate(\" + outerRadius + \",0)\"; });\n",
    "\n",
    "groupTick.append(\"line\")\n",
    "    .attr(\"x2\", 6);\n",
    "\n",
    "groupTick\n",
    "  .filter(function(d) { return d.value % 5e3 === 0; })\n",
    "  .append(\"text\")\n",
    "    .attr(\"x\", 8)\n",
    "    .attr(\"dy\", \".35em\")\n",
    "    .attr(\"transform\", function(d) { return d.angle > Math.PI ? \"rotate(180) translate(-16)\" : null; })\n",
    "    .style(\"text-anchor\", function(d) { return d.angle > Math.PI ? \"end\" : null; })\n",
    "    .text(function(d) { return formatValue(d.value); });\n",
    "\n",
    "g.append(\"g\")\n",
    "    .attr(\"class\", \"ribbons\")\n",
    "  .selectAll(\"path\")\n",
    "  .data(function(chords) { return chords; })\n",
    "  .enter().append(\"path\")\n",
    "    .attr(\"d\", ribbon)\n",
    "    .style(\"fill\", function(d) { return color(d.target.index); })\n",
    "    .style(\"stroke\", function(d) { return d3.rgb(color(d.target.index)).darker(); });\n",
    "\n",
    "// Returns an array of tick angles and values for a given group and step.\n",
    "function groupTicks(d, step) {\n",
    "  var k = (d.endAngle - d.startAngle) / d.value;\n",
    "  return d3.range(0, d.value, step).map(function(value) {\n",
    "    return {value: value, angle: value * k + d.startAngle};\n",
    "  });\n",
    "}\n",
    "\n",
    "</script>\n"
   ]
  },
  {
   "cell_type": "code",
   "execution_count": null,
   "metadata": {},
   "outputs": [],
   "source": []
  }
 ],
 "metadata": {
  "kernelspec": {
   "display_name": "Python 3",
   "language": "python",
   "name": "python3"
  },
  "language_info": {
   "codemirror_mode": {
    "name": "ipython",
    "version": 3
   },
   "file_extension": ".py",
   "mimetype": "text/x-python",
   "name": "python",
   "nbconvert_exporter": "python",
   "pygments_lexer": "ipython3",
   "version": "3.5.1"
  }
 },
 "nbformat": 4,
 "nbformat_minor": 2
}
